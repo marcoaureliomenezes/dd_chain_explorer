{
 "cells": [
  {
   "cell_type": "code",
   "execution_count": 12,
   "id": "4731a6f1",
   "metadata": {},
   "outputs": [
    {
     "name": "stdout",
     "output_type": "stream",
     "text": [
      "+---------+---------+-----------+\n",
      "|namespace|tableName|isTemporary|\n",
      "+---------+---------+-----------+\n",
      "|         |open_2023|      false|\n",
      "+---------+---------+-----------+\n",
      "\n",
      "+---------+\n",
      "|namespace|\n",
      "+---------+\n",
      "|  default|\n",
      "+---------+\n",
      "\n"
     ]
    }
   ],
   "source": [
    "import pyspark\n",
    "from pyspark.sql import SparkSession\n",
    "import os\n",
    "\n",
    "\n",
    "def get_spark_session():\n",
    "  NESSIE_URI = \"http://nessie:19120/api/v1\"\n",
    "  MINIO_HOST = 'http://minio:9000'\n",
    "  MINIO_ACCESS_KEY = \"pTo0VEtqzA7hTKsCwCOV\"\n",
    "  MINIO_SECRET_KEY = \"B7j2Pt93vVDkYhJ9BsKBi43ZhQtMZU5iP4UznW92\"\n",
    "\n",
    "  jar_packages = [\n",
    "    \"org.apache.iceberg:iceberg-spark-runtime-3.5_2.12:1.6.1\",\n",
    "    \"org.projectnessie.nessie-integrations:nessie-spark-extensions-3.5_2.12:0.95.0\",\n",
    "    \"software.amazon.awssdk:bundle:2.17.178\",\n",
    "    \"software.amazon.awssdk:url-connection-client:2.17.178\"]\n",
    "\n",
    "  spark_extensions = [\n",
    "    \"org.apache.iceberg.spark.extensions.IcebergSparkSessionExtensions\",\n",
    "    \"org.projectnessie.spark.extensions.NessieSparkSessionExtensions\"]\n",
    "\n",
    "  conf = (\n",
    "    pyspark.SparkConf()\n",
    "      .setAppName('iceberg_hello_world')\n",
    "      .set('spark.jars.packages', ','.join(jar_packages))\n",
    "      .set('spark.sql.extensions', ','.join(spark_extensions))\n",
    "      .set('spark.sql.catalog.nessie', \"org.apache.iceberg.spark.SparkCatalog\")\n",
    "      .set('spark.sql.catalog.nessie.uri', NESSIE_URI)\n",
    "      .set('spark.sql.catalog.nessie.ref', 'main')\n",
    "      .set('spark.sql.catalog.nessie.authentication.type', 'NONE')\n",
    "      .set('spark.sql.catalog.nessie.catalog-impl', 'org.apache.iceberg.nessie.NessieCatalog')\n",
    "      .set('spark.sql.catalog.nessie.io-impl', 'org.apache.iceberg.aws.s3.S3FileIO')\n",
    "      .set('spark.sql.catalog.nessie.s3.endpoint', MINIO_HOST)\n",
    "      .set('spark.sql.catalog.nessie.warehouse', 's3a://warehouse')\n",
    "      .set('spark.hadoop.fs.s3a.access.key', MINIO_ACCESS_KEY)\n",
    "      .set('spark.hadoop.fs.s3a.secret.key', MINIO_SECRET_KEY)\n",
    "      .set('spark.hadoop.fs.s3a.path.style.access', 'true')\n",
    "      .set('spark.hadoop.fs.s3a.connection.timeout', '600000')\n",
    "      .set('spark.hadoop.fs.s3a.impl', 'org.apache.hadoop.fs.s3a.S3AFileSystem')\n",
    "      .set('spark.hadoop.fs.s3a.connection.ssl.enabled', 'false')\n",
    "      .set('spark.hadoop.fs.s3a.endpoint', MINIO_HOST))\n",
    "  return SparkSession.builder.config(conf=conf).master(\"spark://spark-master:7077\").getOrCreate()\n",
    "\n",
    "\n",
    "\n",
    "spark = get_spark_session()\n",
    "spark.sql(\"SHOW TABLES IN nessie\").show()\n",
    "spark.sql(\"SHOW DATABASES\").show()"
   ]
  },
  {
   "cell_type": "code",
   "execution_count": 13,
   "id": "ac956af8",
   "metadata": {},
   "outputs": [
    {
     "name": "stdout",
     "output_type": "stream",
     "text": [
      "++\n",
      "||\n",
      "++\n",
      "++\n",
      "\n",
      "+--------+\n",
      "|count(1)|\n",
      "+--------+\n",
      "|  302231|\n",
      "+--------+\n",
      "\n"
     ]
    }
   ],
   "source": [
    "## LOAD A CSV INTO AN SQL VIEW\n",
    "csv_df = spark.read.format(\"csv\").option(\"header\", \"true\").load(\"../datasets/df_open_2023.csv\")\n",
    "csv_df.createOrReplaceTempView(\"csv_open_2023\")\n",
    "\n",
    "## CREATE AN ICEBERG TABLE FROM THE SQL VIEW\n",
    "spark.sql(\"CREATE TABLE IF NOT EXISTS nessie.open_2023 USING iceberg AS SELECT * FROM csv_open_2023\").show()\n",
    "spark.sql(\"SELECT COUNT(*) FROM nessie.open_2023\").show()"
   ]
  }
 ],
 "metadata": {
  "kernelspec": {
   "display_name": "Python 3 (ipykernel)",
   "language": "python",
   "name": "python3"
  },
  "language_info": {
   "codemirror_mode": {
    "name": "ipython",
    "version": 3
   },
   "file_extension": ".py",
   "mimetype": "text/x-python",
   "name": "python",
   "nbconvert_exporter": "python",
   "pygments_lexer": "ipython3",
   "version": "3.11.9"
  }
 },
 "nbformat": 4,
 "nbformat_minor": 5
}
