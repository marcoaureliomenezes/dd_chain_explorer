{
 "cells": [
  {
   "cell_type": "code",
   "execution_count": 1,
   "id": "4731a6f1",
   "metadata": {},
   "outputs": [
    {
     "name": "stdout",
     "output_type": "stream",
     "text": [
      "Environment Variables:\n",
      "http://minio:9000\n",
      "http://nessie:19120/api/v1\n",
      ":: loading settings :: url = jar:file:/opt/bitnami/spark/jars/ivy-2.5.1.jar!/org/apache/ivy/core/settings/ivysettings.xml\n"
     ]
    },
    {
     "name": "stderr",
     "output_type": "stream",
     "text": [
      "Ivy Default Cache set to: /root/.ivy2/cache\n",
      "The jars for the packages stored in: /root/.ivy2/jars\n",
      "org.apache.iceberg#iceberg-spark-runtime-3.5_2.12 added as a dependency\n",
      "org.projectnessie.nessie-integrations#nessie-spark-extensions-3.5_2.12 added as a dependency\n",
      "org.apache.iceberg#iceberg-aws-bundle added as a dependency\n",
      "org.apache.spark#spark-sql-kafka-0-10_2.12 added as a dependency\n",
      "org.apache.spark#spark-avro_2.12 added as a dependency\n",
      ":: resolving dependencies :: org.apache.spark#spark-submit-parent-0b97c660-9e96-4733-bb8d-dc792adf3d7f;1.0\n",
      "\tconfs: [default]\n",
      "\tfound org.apache.iceberg#iceberg-spark-runtime-3.5_2.12;1.6.1 in central\n",
      "\tfound org.projectnessie.nessie-integrations#nessie-spark-extensions-3.5_2.12;0.99.0 in central\n",
      "\tfound org.apache.iceberg#iceberg-aws-bundle;1.6.1 in central\n",
      "\tfound org.apache.spark#spark-sql-kafka-0-10_2.12;3.5.3 in central\n",
      "\tfound org.apache.spark#spark-token-provider-kafka-0-10_2.12;3.5.3 in central\n",
      "\tfound org.apache.kafka#kafka-clients;3.4.1 in central\n",
      "\tfound org.lz4#lz4-java;1.8.0 in central\n",
      "\tfound org.xerial.snappy#snappy-java;1.1.10.5 in central\n",
      "\tfound org.slf4j#slf4j-api;2.0.7 in central\n",
      "\tfound org.apache.hadoop#hadoop-client-runtime;3.3.4 in central\n",
      "\tfound org.apache.hadoop#hadoop-client-api;3.3.4 in central\n",
      "\tfound commons-logging#commons-logging;1.1.3 in central\n",
      "\tfound com.google.code.findbugs#jsr305;3.0.0 in central\n",
      "\tfound org.apache.commons#commons-pool2;2.11.1 in central\n",
      "\tfound org.apache.spark#spark-avro_2.12;3.5.3 in central\n",
      "\tfound org.tukaani#xz;1.9 in central\n",
      ":: resolution report :: resolve 3600ms :: artifacts dl 84ms\n",
      "\t:: modules in use:\n",
      "\tcom.google.code.findbugs#jsr305;3.0.0 from central in [default]\n",
      "\tcommons-logging#commons-logging;1.1.3 from central in [default]\n",
      "\torg.apache.commons#commons-pool2;2.11.1 from central in [default]\n",
      "\torg.apache.hadoop#hadoop-client-api;3.3.4 from central in [default]\n",
      "\torg.apache.hadoop#hadoop-client-runtime;3.3.4 from central in [default]\n",
      "\torg.apache.iceberg#iceberg-aws-bundle;1.6.1 from central in [default]\n",
      "\torg.apache.iceberg#iceberg-spark-runtime-3.5_2.12;1.6.1 from central in [default]\n",
      "\torg.apache.kafka#kafka-clients;3.4.1 from central in [default]\n",
      "\torg.apache.spark#spark-avro_2.12;3.5.3 from central in [default]\n",
      "\torg.apache.spark#spark-sql-kafka-0-10_2.12;3.5.3 from central in [default]\n",
      "\torg.apache.spark#spark-token-provider-kafka-0-10_2.12;3.5.3 from central in [default]\n",
      "\torg.lz4#lz4-java;1.8.0 from central in [default]\n",
      "\torg.projectnessie.nessie-integrations#nessie-spark-extensions-3.5_2.12;0.99.0 from central in [default]\n",
      "\torg.slf4j#slf4j-api;2.0.7 from central in [default]\n",
      "\torg.tukaani#xz;1.9 from central in [default]\n",
      "\torg.xerial.snappy#snappy-java;1.1.10.5 from central in [default]\n",
      "\t---------------------------------------------------------------------\n",
      "\t|                  |            modules            ||   artifacts   |\n",
      "\t|       conf       | number| search|dwnlded|evicted|| number|dwnlded|\n",
      "\t---------------------------------------------------------------------\n",
      "\t|      default     |   16  |   0   |   0   |   0   ||   16  |   0   |\n",
      "\t---------------------------------------------------------------------\n",
      ":: retrieving :: org.apache.spark#spark-submit-parent-0b97c660-9e96-4733-bb8d-dc792adf3d7f\n",
      "\tconfs: [default]\n",
      "\t0 artifacts copied, 16 already retrieved (0kB/44ms)\n",
      "25/02/06 02:39:14 WARN NativeCodeLoader: Unable to load native-hadoop library for your platform... using builtin-java classes where applicable\n",
      "Setting default log level to \"WARN\".\n",
      "To adjust logging level use sc.setLogLevel(newLevel). For SparkR, use setLogLevel(newLevel).\n"
     ]
    },
    {
     "data": {
      "text/html": [
       "\n",
       "            <div>\n",
       "                <p><b>SparkSession - in-memory</b></p>\n",
       "                \n",
       "        <div>\n",
       "            <p><b>SparkContext</b></p>\n",
       "\n",
       "            <p><a href=\"http://c7766597a309:4040\">Spark UI</a></p>\n",
       "\n",
       "            <dl>\n",
       "              <dt>Version</dt>\n",
       "                <dd><code>v3.5.3</code></dd>\n",
       "              <dt>Master</dt>\n",
       "                <dd><code>spark://spark-master:7077</code></dd>\n",
       "              <dt>AppName</dt>\n",
       "                <dd><code>Rosemberg</code></dd>\n",
       "            </dl>\n",
       "        </div>\n",
       "        \n",
       "            </div>\n",
       "        "
      ],
      "text/plain": [
       "<pyspark.sql.session.SparkSession at 0x77617551bfe0>"
      ]
     },
     "execution_count": 1,
     "metadata": {},
     "output_type": "execute_result"
    }
   ],
   "source": [
    "import os\n",
    "import pyspark\n",
    "\n",
    "from pyspark.sql import SparkSession\n",
    "from pyspark.sql.functions import date_format, to_timestamp, col, monotonically_increasing_id\n",
    "from random_spec import rand_spec_case_wsl\n",
    "from rand_engine.main.data_generator import DataGenerator\n",
    "\n",
    "\n",
    "class SparkUtils:\n",
    "\n",
    "  @staticmethod\n",
    "  def get_spark_session(app_name):\n",
    "    jar_packages = [\n",
    "        \"org.apache.iceberg:iceberg-spark-runtime-3.5_2.12:1.6.1\",\n",
    "        \"org.projectnessie.nessie-integrations:nessie-spark-extensions-3.5_2.12:0.99.0\",\n",
    "        \"org.apache.iceberg:iceberg-aws-bundle:1.6.1\"\n",
    "      ]\n",
    "\n",
    "    spark_extensions = [\n",
    "      \"org.apache.iceberg.spark.extensions.IcebergSparkSessionExtensions\",\n",
    "      \"org.projectnessie.spark.extensions.NessieSparkSessionExtensions\"\n",
    "    ]\n",
    "\n",
    "    print(\"Environment Variables:\")\n",
    "    print(os.getenv(\"S3_URL\"))\n",
    "    print(os.getenv(\"NESSIE_URI\"))\n",
    "    conf = (\n",
    "      pyspark.SparkConf()\n",
    "      .setAppName(app_name)\n",
    "      .set('spark.sql.catalog.nessie.s3.path-style-access', 'true')\n",
    "      .set('spark.sql.catalog.nessie.warehouse', 's3a://lakehouse/warehouse')\n",
    "      .set('spark.sql.catalog.nessie.cache-enabled', 'false')    \n",
    "      .set('spark.hadoop.fs.s3a.access.key', os.getenv(\"AWS_ACCESS_KEY_ID\"))\n",
    "      .set('spark.hadoop.fs.s3a.secret.key', os.getenv(\"AWS_SECRET_ACCESS_KEY\"))\n",
    "      .set(\"spark.hadoop.fs.s3a.endpoint\", os.getenv(\"S3_URL\"))\n",
    "      .set(\"spark.hadoop.fs.s3a.path.style.access\", \"true\")\n",
    "      .set(\"spark.hadoop.fs.s3a.impl\", \"org.apache.hadoop.fs.s3a.S3AFileSystem\")\n",
    "        \n",
    "    )\n",
    "    spark = SparkSession.builder.config(conf=conf).getOrCreate()\n",
    "    spark.sparkContext.setLogLevel(\"ERROR\")\n",
    "    return spark\n",
    "\n",
    "\n",
    "  \n",
    "\n",
    "spark = SparkUtils.get_spark_session(\"Rosemberg\")\n",
    "spark\n"
   ]
  },
  {
   "cell_type": "code",
   "execution_count": 2,
   "id": "b0dc29ac-07bb-467f-bab4-6e2512cea120",
   "metadata": {},
   "outputs": [
    {
     "name": "stdout",
     "output_type": "stream",
     "text": [
      "+---------+--------------------+-----------+\n",
      "|namespace|           tableName|isTemporary|\n",
      "+---------+--------------------+-----------+\n",
      "|   bronze|kafka_topics_mult...|      false|\n",
      "+---------+--------------------+-----------+\n",
      "\n"
     ]
    }
   ],
   "source": [
    "spark.sql(\"SHOW TABLES IN nessie.bronze\").show()"
   ]
  },
  {
   "cell_type": "code",
   "execution_count": 3,
   "id": "98fd3bf3-58d6-4de0-8193-2651ef2fdff5",
   "metadata": {},
   "outputs": [],
   "source": [
    "# full_tablename = \"nessie.bronze.kafka_topics_multiplexed\"\n",
    "# spark.sql(f\"SELECT COUNT(*) FROM {full_tablename}.partitions\").show(10, False)\n",
    "# spark.sql(f\"SELECT * FROM {full_tablename}.snapshots\").show(10, False)"
   ]
  },
  {
   "cell_type": "code",
   "execution_count": 8,
   "id": "de7ab243-b927-4562-86f5-79475029c74d",
   "metadata": {},
   "outputs": [
    {
     "name": "stderr",
     "output_type": "stream",
     "text": [
      "                                                                                \r"
     ]
    },
    {
     "name": "stdout",
     "output_type": "stream",
     "text": [
      "+-------------------------+---------------------+\n",
      "|rewritten_manifests_count|added_manifests_count|\n",
      "+-------------------------+---------------------+\n",
      "|                       18|                    1|\n",
      "+-------------------------+---------------------+\n",
      "\n"
     ]
    },
    {
     "name": "stderr",
     "output_type": "stream",
     "text": [
      "                                                                                \r"
     ]
    },
    {
     "name": "stdout",
     "output_type": "stream",
     "text": [
      "+--------------------------+----------------------+---------------------+-----------------------+\n",
      "|rewritten_data_files_count|added_data_files_count|rewritten_bytes_count|failed_data_files_count|\n",
      "+--------------------------+----------------------+---------------------+-----------------------+\n",
      "|                        34|                     2|             11405315|                      0|\n",
      "+--------------------------+----------------------+---------------------+-----------------------+\n",
      "\n",
      "+----------------------------+------------------------+---------------------+-----------------+\n",
      "|rewritten_delete_files_count|added_delete_files_count|rewritten_bytes_count|added_bytes_count|\n",
      "+----------------------------+------------------------+---------------------+-----------------+\n",
      "|                           0|                       0|                    0|                0|\n",
      "+----------------------------+------------------------+---------------------+-----------------+\n",
      "\n"
     ]
    },
    {
     "name": "stderr",
     "output_type": "stream",
     "text": [
      "                                                                                \r"
     ]
    },
    {
     "name": "stdout",
     "output_type": "stream",
     "text": [
      "+--------------------+\n",
      "|orphan_file_location|\n",
      "+--------------------+\n",
      "+--------------------+\n",
      "\n",
      "CALL nessie.system.expire_snapshots('nessie.bronze.kafka_topics_multiplexed', TIMESTAMP '2025-02-06 02:50:30.052546', 2)\n"
     ]
    },
    {
     "name": "stderr",
     "output_type": "stream",
     "text": [
      "                                                                                \r"
     ]
    },
    {
     "name": "stdout",
     "output_type": "stream",
     "text": [
      "+------------------------+-----------------------------------+-----------------------------------+----------------------------+----------------------------+------------------------------+\n",
      "|deleted_data_files_count|deleted_position_delete_files_count|deleted_equality_delete_files_count|deleted_manifest_files_count|deleted_manifest_lists_count|deleted_statistics_files_count|\n",
      "+------------------------+-----------------------------------+-----------------------------------+----------------------------+----------------------------+------------------------------+\n",
      "|                      34|                                  0|                                  0|                          19|                          18|                             0|\n",
      "+------------------------+-----------------------------------+-----------------------------------+----------------------------+----------------------------+------------------------------+\n",
      "\n",
      "+-------------------------+---------------------+\n",
      "|rewritten_manifests_count|added_manifests_count|\n",
      "+-------------------------+---------------------+\n",
      "|                        0|                    0|\n",
      "+-------------------------+---------------------+\n",
      "\n",
      "+--------------------------+----------------------+---------------------+-----------------------+\n",
      "|rewritten_data_files_count|added_data_files_count|rewritten_bytes_count|failed_data_files_count|\n",
      "+--------------------------+----------------------+---------------------+-----------------------+\n",
      "|                         0|                     0|                    0|                      0|\n",
      "+--------------------------+----------------------+---------------------+-----------------------+\n",
      "\n",
      "+----------------------------+------------------------+---------------------+-----------------+\n",
      "|rewritten_delete_files_count|added_delete_files_count|rewritten_bytes_count|added_bytes_count|\n",
      "+----------------------------+------------------------+---------------------+-----------------+\n",
      "|                           0|                       0|                    0|                0|\n",
      "+----------------------------+------------------------+---------------------+-----------------+\n",
      "\n"
     ]
    },
    {
     "name": "stderr",
     "output_type": "stream",
     "text": [
      "                                                                                \r"
     ]
    },
    {
     "name": "stdout",
     "output_type": "stream",
     "text": [
      "+--------------------+\n",
      "|orphan_file_location|\n",
      "+--------------------+\n",
      "+--------------------+\n",
      "\n",
      "CALL nessie.system.expire_snapshots('nessie.silver.blocks', TIMESTAMP '2025-02-06 02:51:02.501615', 2)\n"
     ]
    },
    {
     "name": "stderr",
     "output_type": "stream",
     "text": [
      "                                                                                \r"
     ]
    },
    {
     "name": "stdout",
     "output_type": "stream",
     "text": [
      "+------------------------+-----------------------------------+-----------------------------------+----------------------------+----------------------------+------------------------------+\n",
      "|deleted_data_files_count|deleted_position_delete_files_count|deleted_equality_delete_files_count|deleted_manifest_files_count|deleted_manifest_lists_count|deleted_statistics_files_count|\n",
      "+------------------------+-----------------------------------+-----------------------------------+----------------------------+----------------------------+------------------------------+\n",
      "|                       0|                                  0|                                  0|                           0|                           0|                             0|\n",
      "+------------------------+-----------------------------------+-----------------------------------+----------------------------+----------------------------+------------------------------+\n",
      "\n",
      "+-------------------------+---------------------+\n",
      "|rewritten_manifests_count|added_manifests_count|\n",
      "+-------------------------+---------------------+\n",
      "|                        0|                    0|\n",
      "+-------------------------+---------------------+\n",
      "\n",
      "+--------------------------+----------------------+---------------------+-----------------------+\n",
      "|rewritten_data_files_count|added_data_files_count|rewritten_bytes_count|failed_data_files_count|\n",
      "+--------------------------+----------------------+---------------------+-----------------------+\n",
      "|                         0|                     0|                    0|                      0|\n",
      "+--------------------------+----------------------+---------------------+-----------------------+\n",
      "\n",
      "+----------------------------+------------------------+---------------------+-----------------+\n",
      "|rewritten_delete_files_count|added_delete_files_count|rewritten_bytes_count|added_bytes_count|\n",
      "+----------------------------+------------------------+---------------------+-----------------+\n",
      "|                           0|                       0|                    0|                0|\n",
      "+----------------------------+------------------------+---------------------+-----------------+\n",
      "\n"
     ]
    },
    {
     "name": "stderr",
     "output_type": "stream",
     "text": [
      "                                                                                \r"
     ]
    },
    {
     "name": "stdout",
     "output_type": "stream",
     "text": [
      "+--------------------+\n",
      "|orphan_file_location|\n",
      "+--------------------+\n",
      "+--------------------+\n",
      "\n",
      "CALL nessie.system.expire_snapshots('nessie.silver.blocks_transactions', TIMESTAMP '2025-02-06 02:51:14.056806', 2)\n"
     ]
    },
    {
     "name": "stderr",
     "output_type": "stream",
     "text": [
      "                                                                                \r"
     ]
    },
    {
     "name": "stdout",
     "output_type": "stream",
     "text": [
      "+------------------------+-----------------------------------+-----------------------------------+----------------------------+----------------------------+------------------------------+\n",
      "|deleted_data_files_count|deleted_position_delete_files_count|deleted_equality_delete_files_count|deleted_manifest_files_count|deleted_manifest_lists_count|deleted_statistics_files_count|\n",
      "+------------------------+-----------------------------------+-----------------------------------+----------------------------+----------------------------+------------------------------+\n",
      "|                       0|                                  0|                                  0|                           0|                           0|                             0|\n",
      "+------------------------+-----------------------------------+-----------------------------------+----------------------------+----------------------------+------------------------------+\n",
      "\n",
      "+-------------------------+---------------------+\n",
      "|rewritten_manifests_count|added_manifests_count|\n",
      "+-------------------------+---------------------+\n",
      "|                       13|                    1|\n",
      "+-------------------------+---------------------+\n",
      "\n"
     ]
    },
    {
     "name": "stderr",
     "output_type": "stream",
     "text": [
      "                                                                                \r"
     ]
    },
    {
     "name": "stdout",
     "output_type": "stream",
     "text": [
      "+--------------------------+----------------------+---------------------+-----------------------+\n",
      "|rewritten_data_files_count|added_data_files_count|rewritten_bytes_count|failed_data_files_count|\n",
      "+--------------------------+----------------------+---------------------+-----------------------+\n",
      "|                        12|                     1|              3624359|                      0|\n",
      "+--------------------------+----------------------+---------------------+-----------------------+\n",
      "\n",
      "+----------------------------+------------------------+---------------------+-----------------+\n",
      "|rewritten_delete_files_count|added_delete_files_count|rewritten_bytes_count|added_bytes_count|\n",
      "+----------------------------+------------------------+---------------------+-----------------+\n",
      "|                           0|                       0|                    0|                0|\n",
      "+----------------------------+------------------------+---------------------+-----------------+\n",
      "\n"
     ]
    },
    {
     "name": "stderr",
     "output_type": "stream",
     "text": [
      "                                                                                \r"
     ]
    },
    {
     "name": "stdout",
     "output_type": "stream",
     "text": [
      "+--------------------+\n",
      "|orphan_file_location|\n",
      "+--------------------+\n",
      "+--------------------+\n",
      "\n",
      "CALL nessie.system.expire_snapshots('nessie.silver.transactions', TIMESTAMP '2025-02-06 02:51:28.959273', 2)\n"
     ]
    },
    {
     "name": "stderr",
     "output_type": "stream",
     "text": [
      "                                                                                \r"
     ]
    },
    {
     "name": "stdout",
     "output_type": "stream",
     "text": [
      "+------------------------+-----------------------------------+-----------------------------------+----------------------------+----------------------------+------------------------------+\n",
      "|deleted_data_files_count|deleted_position_delete_files_count|deleted_equality_delete_files_count|deleted_manifest_files_count|deleted_manifest_lists_count|deleted_statistics_files_count|\n",
      "+------------------------+-----------------------------------+-----------------------------------+----------------------------+----------------------------+------------------------------+\n",
      "|                       0|                                  0|                                  0|                          13|                          16|                             0|\n",
      "+------------------------+-----------------------------------+-----------------------------------+----------------------------+----------------------------+------------------------------+\n",
      "\n"
     ]
    },
    {
     "name": "stderr",
     "output_type": "stream",
     "text": [
      "25/02/06 03:30:19 ERROR TaskSchedulerImpl: Lost executor 2 on 10.0.1.207: Remote RPC client disassociated. Likely due to containers exceeding thresholds, or network issues. Check driver logs for WARN messages.\n",
      "25/02/06 03:30:19 ERROR TaskSchedulerImpl: Lost executor 1 on 10.0.1.203: Remote RPC client disassociated. Likely due to containers exceeding thresholds, or network issues. Check driver logs for WARN messages.\n",
      "25/02/06 03:30:19 ERROR TaskSchedulerImpl: Lost executor 0 on 10.0.1.51: Remote RPC client disassociated. Likely due to containers exceeding thresholds, or network issues. Check driver logs for WARN messages.\n"
     ]
    }
   ],
   "source": [
    "from datetime import datetime as dt, timedelta\n",
    "import os\n",
    "from functools import reduce\n",
    "\n",
    "class IceStreamMaintenance:\n",
    "\n",
    "    def __init__(self, spark, table):\n",
    "        self.spark = spark\n",
    "        self.table = table\n",
    "    \n",
    "    def expire_snapshots(self, hours_retained=1):\n",
    "        timestamp_after_to_retain = dt.now() - timedelta(hours=hours_retained)\n",
    "        query = f\"CALL nessie.system.expire_snapshots('{self.table}', TIMESTAMP '{timestamp_after_to_retain}', 2)\"\n",
    "        print(query)\n",
    "        self.spark.sql(query).show()\n",
    "\n",
    "    def rewrite_manifests(self):\n",
    "        query = f\"CALL nessie.system.rewrite_manifests('{self.table}')\"\n",
    "        print(query)\n",
    "        self.spark.sql(query).show()\n",
    "\n",
    "    def rewrite_position_delete_files(self):\n",
    "        query = f\"CALL nessie.system.rewrite_position_delete_files('{self.table}')\"\n",
    "        print(query)\n",
    "        self.spark.sql(query).show()\n",
    "\n",
    "    \n",
    "    def rewrite_position_delete_files(self):\n",
    "        query = f\"CALL nessie.system.rewrite_position_delete_files('{self.table}')\"\n",
    "        print(query)\n",
    "        self.spark.sql(query).show()\n",
    "\n",
    "    \n",
    "    def rewrite_data_files(self, where=None):\n",
    "        query = f\"CALL nessie.system.rewrite_data_files(table => '{self.table}')\"\n",
    "        query_with_where = f\"CALL nessie.system.rewrite_data_files(table => '{self.table}', where => '{where}')\"\n",
    "        if where is not None: self.spark.sql(query_with_where).show()\n",
    "        else: self.spark.sql(query).show()\n",
    "\n",
    "    \n",
    "    def remove_orphan_files(self, where=None):\n",
    "        query = f\"CALL nessie.system.remove_orphan_files(table => '{self.table}')\"\n",
    "        print(query)\n",
    "        self.spark.sql(query).show()\n",
    "\n",
    "\n",
    "tables = [\"nessie.bronze.kafka_topics_multiplexed\", \"nessie.silver.blocks\", \"nessie.silver.blocks_transactions\", \"nessie.silver.transactions\"]\n",
    "\n",
    "for table in tables:\n",
    "    \n",
    "    ice_handler = IceStreamMaintenance(spark, table)\n",
    "    ice_handler.rewrite_manifests()\n",
    "    ice_handler.compact_files()\n",
    "    spark.sql(f\"CALL nessie.system.rewrite_position_delete_files('{table}')\").show()\n",
    "    spark.sql(f\"CALL nessie.system.remove_orphan_files(table => '{table}')\").show()\n",
    "    \n",
    "    ice_handler.expire_snapshots(hours_retained=0)\n",
    "    # df_partitions = spark.sql(f\"SELECT partition FROM {table}.partitions\")\n",
    "    # df_schema = spark.sql(f\"DESCRIBE EXTENDED {table}\").filter(col(\"col_name\") != \"\").withColumn(\"id\", monotonically_increasing_id())\n",
    "    # df_schema.createOrReplaceTempView(\"df_schema\")\n",
    "    # filter_bottom = \"SELECT id FROM df_schema WHERE col_name = '# Partition Information'\"\n",
    "    # filter_top = \"SELECT id FROM df_schema WHERE col_name = '# Metadata Columns'\"\n",
    "    # df_new = spark.sql(f\"SELECT * FROM df_schema WHERE id > ({filter_bottom}) AND id < ({filter_top})\").filter(col(\"col_name\") != '# col_name').select(\"col_name\")\n",
    "    # partitions = [i[\"col_name\"] for i in df_new.collect()]\n",
    "    # print(partitions)\n",
    "    # #for partition in partitions:\n",
    "    # result = [{j: i[\"partition\"][j] for j in partitions} for i in df_partitions.select(\"partition\").collect()]\n",
    "    # result = [[f'{k}=\"{v}\"' for k, v in i.items()] for i in result]\n",
    "    # result_2 = [reduce(lambda a, b: f\"{a} and {b}\", i) for i in result]\n",
    "\n",
    "        \n",
    "        # ice_handler.compact_files()\n",
    "\n",
    "        # ice_handler.rewrite_manifests()\n",
    "        # ice_handler.expire_snapshots(hours_retained=0)"
   ]
  },
  {
   "cell_type": "code",
   "execution_count": 5,
   "id": "4eedec10-dee2-4d29-ae7c-be8b94e38836",
   "metadata": {},
   "outputs": [
    {
     "ename": "Py4JJavaError",
     "evalue": "An error occurred while calling o57.sql.\n: java.lang.RuntimeException: Couldn't load table 'db.sample' in catalog 'nessie'\n\tat org.apache.iceberg.spark.procedures.BaseProcedure.loadSparkTable(BaseProcedure.java:150)\n\tat org.apache.iceberg.spark.procedures.BaseProcedure.execute(BaseProcedure.java:104)\n\tat org.apache.iceberg.spark.procedures.BaseProcedure.withIcebergTable(BaseProcedure.java:96)\n\tat org.apache.iceberg.spark.procedures.RemoveOrphanFilesProcedure.call(RemoveOrphanFilesProcedure.java:139)\n\tat org.apache.spark.sql.execution.datasources.v2.CallExec.run(CallExec.scala:34)\n\tat org.apache.spark.sql.execution.datasources.v2.V2CommandExec.result$lzycompute(V2CommandExec.scala:43)\n\tat org.apache.spark.sql.execution.datasources.v2.V2CommandExec.result(V2CommandExec.scala:43)\n\tat org.apache.spark.sql.execution.datasources.v2.V2CommandExec.executeCollect(V2CommandExec.scala:49)\n\tat org.apache.spark.sql.execution.QueryExecution$$anonfun$eagerlyExecuteCommands$1.$anonfun$applyOrElse$1(QueryExecution.scala:107)\n\tat org.apache.spark.sql.execution.SQLExecution$.$anonfun$withNewExecutionId$6(SQLExecution.scala:125)\n\tat org.apache.spark.sql.execution.SQLExecution$.withSQLConfPropagated(SQLExecution.scala:201)\n\tat org.apache.spark.sql.execution.SQLExecution$.$anonfun$withNewExecutionId$1(SQLExecution.scala:108)\n\tat org.apache.spark.sql.SparkSession.withActive(SparkSession.scala:900)\n\tat org.apache.spark.sql.execution.SQLExecution$.withNewExecutionId(SQLExecution.scala:66)\n\tat org.apache.spark.sql.execution.QueryExecution$$anonfun$eagerlyExecuteCommands$1.applyOrElse(QueryExecution.scala:107)\n\tat org.apache.spark.sql.execution.QueryExecution$$anonfun$eagerlyExecuteCommands$1.applyOrElse(QueryExecution.scala:98)\n\tat org.apache.spark.sql.catalyst.trees.TreeNode.$anonfun$transformDownWithPruning$1(TreeNode.scala:461)\n\tat org.apache.spark.sql.catalyst.trees.CurrentOrigin$.withOrigin(origin.scala:76)\n\tat org.apache.spark.sql.catalyst.trees.TreeNode.transformDownWithPruning(TreeNode.scala:461)\n\tat org.apache.spark.sql.catalyst.plans.logical.LogicalPlan.org$apache$spark$sql$catalyst$plans$logical$AnalysisHelper$$super$transformDownWithPruning(LogicalPlan.scala:32)\n\tat org.apache.spark.sql.catalyst.plans.logical.AnalysisHelper.transformDownWithPruning(AnalysisHelper.scala:267)\n\tat org.apache.spark.sql.catalyst.plans.logical.AnalysisHelper.transformDownWithPruning$(AnalysisHelper.scala:263)\n\tat org.apache.spark.sql.catalyst.plans.logical.LogicalPlan.transformDownWithPruning(LogicalPlan.scala:32)\n\tat org.apache.spark.sql.catalyst.plans.logical.LogicalPlan.transformDownWithPruning(LogicalPlan.scala:32)\n\tat org.apache.spark.sql.catalyst.trees.TreeNode.transformDown(TreeNode.scala:437)\n\tat org.apache.spark.sql.execution.QueryExecution.eagerlyExecuteCommands(QueryExecution.scala:98)\n\tat org.apache.spark.sql.execution.QueryExecution.commandExecuted$lzycompute(QueryExecution.scala:85)\n\tat org.apache.spark.sql.execution.QueryExecution.commandExecuted(QueryExecution.scala:83)\n\tat org.apache.spark.sql.Dataset.<init>(Dataset.scala:220)\n\tat org.apache.spark.sql.Dataset$.$anonfun$ofRows$2(Dataset.scala:100)\n\tat org.apache.spark.sql.SparkSession.withActive(SparkSession.scala:900)\n\tat org.apache.spark.sql.Dataset$.ofRows(Dataset.scala:97)\n\tat org.apache.spark.sql.SparkSession.$anonfun$sql$1(SparkSession.scala:638)\n\tat org.apache.spark.sql.SparkSession.withActive(SparkSession.scala:900)\n\tat org.apache.spark.sql.SparkSession.sql(SparkSession.scala:629)\n\tat org.apache.spark.sql.SparkSession.sql(SparkSession.scala:659)\n\tat jdk.internal.reflect.GeneratedMethodAccessor86.invoke(Unknown Source)\n\tat java.base/jdk.internal.reflect.DelegatingMethodAccessorImpl.invoke(DelegatingMethodAccessorImpl.java:43)\n\tat java.base/java.lang.reflect.Method.invoke(Method.java:569)\n\tat py4j.reflection.MethodInvoker.invoke(MethodInvoker.java:244)\n\tat py4j.reflection.ReflectionEngine.invoke(ReflectionEngine.java:374)\n\tat py4j.Gateway.invoke(Gateway.java:282)\n\tat py4j.commands.AbstractCommand.invokeMethod(AbstractCommand.java:132)\n\tat py4j.commands.CallCommand.execute(CallCommand.java:79)\n\tat py4j.ClientServerConnection.waitForCommands(ClientServerConnection.java:182)\n\tat py4j.ClientServerConnection.run(ClientServerConnection.java:106)\n\tat java.base/java.lang.Thread.run(Thread.java:840)\nCaused by: org.apache.spark.sql.catalyst.analysis.NoSuchTableException: [TABLE_OR_VIEW_NOT_FOUND] The table or view db.sample cannot be found. Verify the spelling and correctness of the schema and catalog.\nIf you did not qualify the name with a schema, verify the current_schema() output, or qualify the name with the correct schema and catalog.\nTo tolerate the error on drop use DROP VIEW IF EXISTS or DROP TABLE IF EXISTS.\n\tat org.apache.iceberg.spark.SparkCatalog.loadTable(SparkCatalog.java:172)\n\tat org.apache.iceberg.spark.procedures.BaseProcedure.loadSparkTable(BaseProcedure.java:143)\n\t... 46 more\n",
     "output_type": "error",
     "traceback": [
      "\u001b[0;31m---------------------------------------------------------------------------\u001b[0m",
      "\u001b[0;31mPy4JJavaError\u001b[0m                             Traceback (most recent call last)",
      "Cell \u001b[0;32mIn[5], line 1\u001b[0m\n\u001b[0;32m----> 1\u001b[0m \u001b[43mspark\u001b[49m\u001b[38;5;241;43m.\u001b[39;49m\u001b[43msql\u001b[49m\u001b[43m(\u001b[49m\u001b[38;5;124;43m\"\u001b[39;49m\u001b[38;5;124;43mCALL nessie.system.remove_orphan_files(table => \u001b[39;49m\u001b[38;5;124;43m'\u001b[39;49m\u001b[38;5;124;43mdb.sample\u001b[39;49m\u001b[38;5;124;43m'\u001b[39;49m\u001b[38;5;124;43m, dry_run => true)\u001b[39;49m\u001b[38;5;124;43m\"\u001b[39;49m\u001b[43m)\u001b[49m\u001b[38;5;241m.\u001b[39mshow()\n",
      "File \u001b[0;32m~opt/bitnami/spark/python/pyspark/sql/session.py:1631\u001b[0m, in \u001b[0;36mSparkSession.sql\u001b[0;34m(self, sqlQuery, args, **kwargs)\u001b[0m\n\u001b[1;32m   1627\u001b[0m         \u001b[38;5;28;01massert\u001b[39;00m \u001b[38;5;28mself\u001b[39m\u001b[38;5;241m.\u001b[39m_jvm \u001b[38;5;129;01mis\u001b[39;00m \u001b[38;5;129;01mnot\u001b[39;00m \u001b[38;5;28;01mNone\u001b[39;00m\n\u001b[1;32m   1628\u001b[0m         litArgs \u001b[38;5;241m=\u001b[39m \u001b[38;5;28mself\u001b[39m\u001b[38;5;241m.\u001b[39m_jvm\u001b[38;5;241m.\u001b[39mPythonUtils\u001b[38;5;241m.\u001b[39mtoArray(\n\u001b[1;32m   1629\u001b[0m             [_to_java_column(lit(v)) \u001b[38;5;28;01mfor\u001b[39;00m v \u001b[38;5;129;01min\u001b[39;00m (args \u001b[38;5;129;01mor\u001b[39;00m [])]\n\u001b[1;32m   1630\u001b[0m         )\n\u001b[0;32m-> 1631\u001b[0m     \u001b[38;5;28;01mreturn\u001b[39;00m DataFrame(\u001b[38;5;28;43mself\u001b[39;49m\u001b[38;5;241;43m.\u001b[39;49m\u001b[43m_jsparkSession\u001b[49m\u001b[38;5;241;43m.\u001b[39;49m\u001b[43msql\u001b[49m\u001b[43m(\u001b[49m\u001b[43msqlQuery\u001b[49m\u001b[43m,\u001b[49m\u001b[43m \u001b[49m\u001b[43mlitArgs\u001b[49m\u001b[43m)\u001b[49m, \u001b[38;5;28mself\u001b[39m)\n\u001b[1;32m   1632\u001b[0m \u001b[38;5;28;01mfinally\u001b[39;00m:\n\u001b[1;32m   1633\u001b[0m     \u001b[38;5;28;01mif\u001b[39;00m \u001b[38;5;28mlen\u001b[39m(kwargs) \u001b[38;5;241m>\u001b[39m \u001b[38;5;241m0\u001b[39m:\n",
      "File \u001b[0;32m~opt/bitnami/python/lib/python3.12/site-packages/py4j/java_gateway.py:1322\u001b[0m, in \u001b[0;36mJavaMember.__call__\u001b[0;34m(self, *args)\u001b[0m\n\u001b[1;32m   1316\u001b[0m command \u001b[38;5;241m=\u001b[39m proto\u001b[38;5;241m.\u001b[39mCALL_COMMAND_NAME \u001b[38;5;241m+\u001b[39m\\\n\u001b[1;32m   1317\u001b[0m     \u001b[38;5;28mself\u001b[39m\u001b[38;5;241m.\u001b[39mcommand_header \u001b[38;5;241m+\u001b[39m\\\n\u001b[1;32m   1318\u001b[0m     args_command \u001b[38;5;241m+\u001b[39m\\\n\u001b[1;32m   1319\u001b[0m     proto\u001b[38;5;241m.\u001b[39mEND_COMMAND_PART\n\u001b[1;32m   1321\u001b[0m answer \u001b[38;5;241m=\u001b[39m \u001b[38;5;28mself\u001b[39m\u001b[38;5;241m.\u001b[39mgateway_client\u001b[38;5;241m.\u001b[39msend_command(command)\n\u001b[0;32m-> 1322\u001b[0m return_value \u001b[38;5;241m=\u001b[39m \u001b[43mget_return_value\u001b[49m\u001b[43m(\u001b[49m\n\u001b[1;32m   1323\u001b[0m \u001b[43m    \u001b[49m\u001b[43manswer\u001b[49m\u001b[43m,\u001b[49m\u001b[43m \u001b[49m\u001b[38;5;28;43mself\u001b[39;49m\u001b[38;5;241;43m.\u001b[39;49m\u001b[43mgateway_client\u001b[49m\u001b[43m,\u001b[49m\u001b[43m \u001b[49m\u001b[38;5;28;43mself\u001b[39;49m\u001b[38;5;241;43m.\u001b[39;49m\u001b[43mtarget_id\u001b[49m\u001b[43m,\u001b[49m\u001b[43m \u001b[49m\u001b[38;5;28;43mself\u001b[39;49m\u001b[38;5;241;43m.\u001b[39;49m\u001b[43mname\u001b[49m\u001b[43m)\u001b[49m\n\u001b[1;32m   1325\u001b[0m \u001b[38;5;28;01mfor\u001b[39;00m temp_arg \u001b[38;5;129;01min\u001b[39;00m temp_args:\n\u001b[1;32m   1326\u001b[0m     \u001b[38;5;28;01mif\u001b[39;00m \u001b[38;5;28mhasattr\u001b[39m(temp_arg, \u001b[38;5;124m\"\u001b[39m\u001b[38;5;124m_detach\u001b[39m\u001b[38;5;124m\"\u001b[39m):\n",
      "File \u001b[0;32m~opt/bitnami/spark/python/pyspark/errors/exceptions/captured.py:179\u001b[0m, in \u001b[0;36mcapture_sql_exception.<locals>.deco\u001b[0;34m(*a, **kw)\u001b[0m\n\u001b[1;32m    177\u001b[0m \u001b[38;5;28;01mdef\u001b[39;00m\u001b[38;5;250m \u001b[39m\u001b[38;5;21mdeco\u001b[39m(\u001b[38;5;241m*\u001b[39ma: Any, \u001b[38;5;241m*\u001b[39m\u001b[38;5;241m*\u001b[39mkw: Any) \u001b[38;5;241m-\u001b[39m\u001b[38;5;241m>\u001b[39m Any:\n\u001b[1;32m    178\u001b[0m     \u001b[38;5;28;01mtry\u001b[39;00m:\n\u001b[0;32m--> 179\u001b[0m         \u001b[38;5;28;01mreturn\u001b[39;00m \u001b[43mf\u001b[49m\u001b[43m(\u001b[49m\u001b[38;5;241;43m*\u001b[39;49m\u001b[43ma\u001b[49m\u001b[43m,\u001b[49m\u001b[43m \u001b[49m\u001b[38;5;241;43m*\u001b[39;49m\u001b[38;5;241;43m*\u001b[39;49m\u001b[43mkw\u001b[49m\u001b[43m)\u001b[49m\n\u001b[1;32m    180\u001b[0m     \u001b[38;5;28;01mexcept\u001b[39;00m Py4JJavaError \u001b[38;5;28;01mas\u001b[39;00m e:\n\u001b[1;32m    181\u001b[0m         converted \u001b[38;5;241m=\u001b[39m convert_exception(e\u001b[38;5;241m.\u001b[39mjava_exception)\n",
      "File \u001b[0;32m~opt/bitnami/python/lib/python3.12/site-packages/py4j/protocol.py:326\u001b[0m, in \u001b[0;36mget_return_value\u001b[0;34m(answer, gateway_client, target_id, name)\u001b[0m\n\u001b[1;32m    324\u001b[0m value \u001b[38;5;241m=\u001b[39m OUTPUT_CONVERTER[\u001b[38;5;28mtype\u001b[39m](answer[\u001b[38;5;241m2\u001b[39m:], gateway_client)\n\u001b[1;32m    325\u001b[0m \u001b[38;5;28;01mif\u001b[39;00m answer[\u001b[38;5;241m1\u001b[39m] \u001b[38;5;241m==\u001b[39m REFERENCE_TYPE:\n\u001b[0;32m--> 326\u001b[0m     \u001b[38;5;28;01mraise\u001b[39;00m Py4JJavaError(\n\u001b[1;32m    327\u001b[0m         \u001b[38;5;124m\"\u001b[39m\u001b[38;5;124mAn error occurred while calling \u001b[39m\u001b[38;5;132;01m{0}\u001b[39;00m\u001b[38;5;132;01m{1}\u001b[39;00m\u001b[38;5;132;01m{2}\u001b[39;00m\u001b[38;5;124m.\u001b[39m\u001b[38;5;130;01m\\n\u001b[39;00m\u001b[38;5;124m\"\u001b[39m\u001b[38;5;241m.\u001b[39m\n\u001b[1;32m    328\u001b[0m         \u001b[38;5;28mformat\u001b[39m(target_id, \u001b[38;5;124m\"\u001b[39m\u001b[38;5;124m.\u001b[39m\u001b[38;5;124m\"\u001b[39m, name), value)\n\u001b[1;32m    329\u001b[0m \u001b[38;5;28;01melse\u001b[39;00m:\n\u001b[1;32m    330\u001b[0m     \u001b[38;5;28;01mraise\u001b[39;00m Py4JError(\n\u001b[1;32m    331\u001b[0m         \u001b[38;5;124m\"\u001b[39m\u001b[38;5;124mAn error occurred while calling \u001b[39m\u001b[38;5;132;01m{0}\u001b[39;00m\u001b[38;5;132;01m{1}\u001b[39;00m\u001b[38;5;132;01m{2}\u001b[39;00m\u001b[38;5;124m. Trace:\u001b[39m\u001b[38;5;130;01m\\n\u001b[39;00m\u001b[38;5;132;01m{3}\u001b[39;00m\u001b[38;5;130;01m\\n\u001b[39;00m\u001b[38;5;124m\"\u001b[39m\u001b[38;5;241m.\u001b[39m\n\u001b[1;32m    332\u001b[0m         \u001b[38;5;28mformat\u001b[39m(target_id, \u001b[38;5;124m\"\u001b[39m\u001b[38;5;124m.\u001b[39m\u001b[38;5;124m\"\u001b[39m, name, value))\n",
      "\u001b[0;31mPy4JJavaError\u001b[0m: An error occurred while calling o57.sql.\n: java.lang.RuntimeException: Couldn't load table 'db.sample' in catalog 'nessie'\n\tat org.apache.iceberg.spark.procedures.BaseProcedure.loadSparkTable(BaseProcedure.java:150)\n\tat org.apache.iceberg.spark.procedures.BaseProcedure.execute(BaseProcedure.java:104)\n\tat org.apache.iceberg.spark.procedures.BaseProcedure.withIcebergTable(BaseProcedure.java:96)\n\tat org.apache.iceberg.spark.procedures.RemoveOrphanFilesProcedure.call(RemoveOrphanFilesProcedure.java:139)\n\tat org.apache.spark.sql.execution.datasources.v2.CallExec.run(CallExec.scala:34)\n\tat org.apache.spark.sql.execution.datasources.v2.V2CommandExec.result$lzycompute(V2CommandExec.scala:43)\n\tat org.apache.spark.sql.execution.datasources.v2.V2CommandExec.result(V2CommandExec.scala:43)\n\tat org.apache.spark.sql.execution.datasources.v2.V2CommandExec.executeCollect(V2CommandExec.scala:49)\n\tat org.apache.spark.sql.execution.QueryExecution$$anonfun$eagerlyExecuteCommands$1.$anonfun$applyOrElse$1(QueryExecution.scala:107)\n\tat org.apache.spark.sql.execution.SQLExecution$.$anonfun$withNewExecutionId$6(SQLExecution.scala:125)\n\tat org.apache.spark.sql.execution.SQLExecution$.withSQLConfPropagated(SQLExecution.scala:201)\n\tat org.apache.spark.sql.execution.SQLExecution$.$anonfun$withNewExecutionId$1(SQLExecution.scala:108)\n\tat org.apache.spark.sql.SparkSession.withActive(SparkSession.scala:900)\n\tat org.apache.spark.sql.execution.SQLExecution$.withNewExecutionId(SQLExecution.scala:66)\n\tat org.apache.spark.sql.execution.QueryExecution$$anonfun$eagerlyExecuteCommands$1.applyOrElse(QueryExecution.scala:107)\n\tat org.apache.spark.sql.execution.QueryExecution$$anonfun$eagerlyExecuteCommands$1.applyOrElse(QueryExecution.scala:98)\n\tat org.apache.spark.sql.catalyst.trees.TreeNode.$anonfun$transformDownWithPruning$1(TreeNode.scala:461)\n\tat org.apache.spark.sql.catalyst.trees.CurrentOrigin$.withOrigin(origin.scala:76)\n\tat org.apache.spark.sql.catalyst.trees.TreeNode.transformDownWithPruning(TreeNode.scala:461)\n\tat org.apache.spark.sql.catalyst.plans.logical.LogicalPlan.org$apache$spark$sql$catalyst$plans$logical$AnalysisHelper$$super$transformDownWithPruning(LogicalPlan.scala:32)\n\tat org.apache.spark.sql.catalyst.plans.logical.AnalysisHelper.transformDownWithPruning(AnalysisHelper.scala:267)\n\tat org.apache.spark.sql.catalyst.plans.logical.AnalysisHelper.transformDownWithPruning$(AnalysisHelper.scala:263)\n\tat org.apache.spark.sql.catalyst.plans.logical.LogicalPlan.transformDownWithPruning(LogicalPlan.scala:32)\n\tat org.apache.spark.sql.catalyst.plans.logical.LogicalPlan.transformDownWithPruning(LogicalPlan.scala:32)\n\tat org.apache.spark.sql.catalyst.trees.TreeNode.transformDown(TreeNode.scala:437)\n\tat org.apache.spark.sql.execution.QueryExecution.eagerlyExecuteCommands(QueryExecution.scala:98)\n\tat org.apache.spark.sql.execution.QueryExecution.commandExecuted$lzycompute(QueryExecution.scala:85)\n\tat org.apache.spark.sql.execution.QueryExecution.commandExecuted(QueryExecution.scala:83)\n\tat org.apache.spark.sql.Dataset.<init>(Dataset.scala:220)\n\tat org.apache.spark.sql.Dataset$.$anonfun$ofRows$2(Dataset.scala:100)\n\tat org.apache.spark.sql.SparkSession.withActive(SparkSession.scala:900)\n\tat org.apache.spark.sql.Dataset$.ofRows(Dataset.scala:97)\n\tat org.apache.spark.sql.SparkSession.$anonfun$sql$1(SparkSession.scala:638)\n\tat org.apache.spark.sql.SparkSession.withActive(SparkSession.scala:900)\n\tat org.apache.spark.sql.SparkSession.sql(SparkSession.scala:629)\n\tat org.apache.spark.sql.SparkSession.sql(SparkSession.scala:659)\n\tat jdk.internal.reflect.GeneratedMethodAccessor86.invoke(Unknown Source)\n\tat java.base/jdk.internal.reflect.DelegatingMethodAccessorImpl.invoke(DelegatingMethodAccessorImpl.java:43)\n\tat java.base/java.lang.reflect.Method.invoke(Method.java:569)\n\tat py4j.reflection.MethodInvoker.invoke(MethodInvoker.java:244)\n\tat py4j.reflection.ReflectionEngine.invoke(ReflectionEngine.java:374)\n\tat py4j.Gateway.invoke(Gateway.java:282)\n\tat py4j.commands.AbstractCommand.invokeMethod(AbstractCommand.java:132)\n\tat py4j.commands.CallCommand.execute(CallCommand.java:79)\n\tat py4j.ClientServerConnection.waitForCommands(ClientServerConnection.java:182)\n\tat py4j.ClientServerConnection.run(ClientServerConnection.java:106)\n\tat java.base/java.lang.Thread.run(Thread.java:840)\nCaused by: org.apache.spark.sql.catalyst.analysis.NoSuchTableException: [TABLE_OR_VIEW_NOT_FOUND] The table or view db.sample cannot be found. Verify the spelling and correctness of the schema and catalog.\nIf you did not qualify the name with a schema, verify the current_schema() output, or qualify the name with the correct schema and catalog.\nTo tolerate the error on drop use DROP VIEW IF EXISTS or DROP TABLE IF EXISTS.\n\tat org.apache.iceberg.spark.SparkCatalog.loadTable(SparkCatalog.java:172)\n\tat org.apache.iceberg.spark.procedures.BaseProcedure.loadSparkTable(BaseProcedure.java:143)\n\t... 46 more\n"
     ]
    }
   ],
   "source": [
    "spark.sql(\"CALL nessie.system.remove_orphan_files(table => 'db.sample', dry_run => true)\").show()\n"
   ]
  },
  {
   "cell_type": "code",
   "execution_count": null,
   "id": "438c4680-183f-4597-9d83-81cfc25d34f1",
   "metadata": {},
   "outputs": [],
   "source": [
    "spark.sql(\"CALL nessie.system.rewrite_manifests('nessie.bronze.kafka_topics_multiplexed')\").show()"
   ]
  },
  {
   "cell_type": "code",
   "execution_count": null,
   "id": "e8bc9370-e886-491d-9c08-e594479758bf",
   "metadata": {},
   "outputs": [],
   "source": [
    "spark.sql(\"CALL nessie.system.rewrite_position_delete_files('nessie.bronze.kafka_topics_multiplexed')\").show()"
   ]
  },
  {
   "cell_type": "code",
   "execution_count": null,
   "id": "6452c3c8-7cd4-4f30-a740-a1d540d99df5",
   "metadata": {},
   "outputs": [],
   "source": [
    "from datetime import datetime as dt, timedelta\n",
    "class LittleETL:\n",
    "\n",
    "\n",
    "    def __init__(self, spark, full_tablename):\n",
    "        self.spark = spark\n",
    "        self.df_extracted = None\n",
    "        self.df_transformed = None\n",
    "        self.full_tablename = full_tablename\n",
    "\n",
    "    def create_table(self):\n",
    "        namespace = self.full_tablename.split(\".\")[1]\n",
    "        self.spark.sql(f\"CREATE NAMESPACE IF NOT EXISTS nessie.{namespace}\").show()\n",
    "        self.spark.sql(f\"\"\"\n",
    "        CREATE TABLE IF NOT EXISTS {self.full_tablename} (\n",
    "            ip_address STRING,\n",
    "            identifier STRING,\n",
    "            user STRING,\n",
    "            http_version STRING,\n",
    "            object_size INT,\n",
    "            http_request STRING,\n",
    "            http_status INT,\n",
    "            odate STRING,\n",
    "            log_timestamp TIMESTAMP)\n",
    "        USING ICEBERG\n",
    "        PARTITIONED BY (odate)\n",
    "        TBLPROPERTIES (\n",
    "            'gc.enabled' = 'true',\n",
    "            'write.delete.mode' = 'copy-on-write',\n",
    "            'write.update.mode' = 'merge-on-read',\n",
    "            'write.merge.mode' = 'merge-on-read',\n",
    "            'write.metadata.delete-after-commit.enabled' = 'true',\n",
    "            'write.metadata.previous-versions-max' = 3,\n",
    "            'write.parquet.compression-codec' = 'snappy'\n",
    "        )\"\"\").show()\n",
    "        return self\n",
    "\n",
    "    def show_metadata(self, metric=\"history\"):\n",
    "        assert self.full_tablename is not None, \"table must bet set before reading its metadata!\"\n",
    "        ice_metadata = {\n",
    "            \"partitions\": lambda: self.spark.sql(f\"SELECT * FROM {self.full_tablename}.partitions\").show(),\n",
    "            \"history\": lambda: self.spark.sql(f\"SELECT * FROM {self.full_tablename}.history\").show(),\n",
    "            \"files\": lambda: self.spark.sql(f\"SELECT * FROM {self.full_tablename}.files\").show()\n",
    "        }\n",
    "        return ice_metadata[metric]()\n",
    "\n",
    "    def maintenance(self):\n",
    "        self.spark.sql(f\"CALL nessie.system.rewrite_data_files('{self.full_tablename}')\").show()\n",
    "\n",
    "    def remove_orphans(self):\n",
    "        print(f\"Try to expire snapshots\")\n",
    "        timestamp_30_minutes_ago = dt.now() - timedelta(minutes=300)\n",
    "        formatted_timestamp = timestamp_30_minutes_ago.strftime(\"%Y-%m-%d %H:%M:%S\")\n",
    "        self.spark.sql(f\"CALL nessie.system.expire_snapshots('{self.full_tablename}', TIMESTAMP '{dt.now()}', 1)\").show()\n",
    "        self.spark.sql(f\"CALL nessie.system.remove_orphan_files(table => '{self.full_tablename}', dry_run => true)\").show()\n",
    "        #\"2025-02-02 14:25:00.000\"\n",
    "    \n",
    "    def extract(self, metadata, size=10**5):\n",
    "        df_pandas = DataGenerator(rand_spec).generate_pandas_df(size).get_df()\n",
    "        self.df_extracted = self.spark.createDataFrame(df_pandas)\n",
    "        del df_pandas\n",
    "        print(f\"Num Partitions: {self.df_extracted.rdd.getNumPartitions()}\")\n",
    "        self.df_extracted.printSchema()\n",
    "        return self\n",
    "\n",
    "    def transform(self):\n",
    "        assert self.df_extracted is not None, \"dataframe must be extracted before transform it!\"\n",
    "        datetime_format = \"dd/MMM/yyyy:HH:mm:ss\"\n",
    "        odate_format = \"yyyy-MM-dd\"\n",
    "        self.df_transformed = (\n",
    "            self.df_extracted \n",
    "                .withColumn(\"timestamp\", to_timestamp(col(\"datetime\"), datetime_format))\n",
    "                .withColumn(\"odate\", date_format(col(\"timestamp\"), odate_format))\n",
    "                .withColumn(\"http_status\", col(\"http_status\").cast(\"int\"))\n",
    "                .withColumnRenamed(\"identificador\", \"identifier\")\n",
    "                .withColumnRenamed(\"timestamp\", \"log_timestamp\")\n",
    "                .drop(\"datetime\")\n",
    "        )\n",
    "        return self.df_transformed\n",
    "        \n",
    "\n",
    "    def load(self):\n",
    "        assert self.df_transformed  is not None, \"dataframe must be transformed before load it!\"\n",
    "        _ = (\n",
    "            self.df_transformed \n",
    "            .writeTo(self.full_tablename)\n",
    "            .partitionedBy(\"odate\")\n",
    "            .append()\n",
    "        )\n",
    "\n",
    "\n",
    "\n",
    "\n",
    "if __name__ == '__main__':\n",
    "    \n",
    "\n",
    "    table_name = \"nessie.learn.web_server_logs\"\n",
    "    rand_spec = rand_spec_case_wsl(min_date=\"2025-02-02\", max_date=\"2025-02-03\")\n",
    "    \n",
    "    etl = LittleETL(spark, table_name).create_table()\n",
    "    # for i in range(10):\n",
    "    #     df = etl.extract(metadata=rand_spec).transform()\n",
    "    #     etl.load()\n",
    "    etl.maintenance()\n",
    "    etl.remove_orphans()\n",
    "    etl.show_metadata()\n"
   ]
  },
  {
   "cell_type": "code",
   "execution_count": null,
   "id": "db382cb2-db83-42e2-aaa3-f9aa5f8a433a",
   "metadata": {},
   "outputs": [],
   "source": [
    "import ast\n",
    "\n",
    "\n",
    "    \n",
    "extract_metadata()"
   ]
  },
  {
   "cell_type": "code",
   "execution_count": null,
   "id": "c16ddf0c-f771-436f-8853-bb7e8d6e41ad",
   "metadata": {},
   "outputs": [],
   "source": [
    "spark.sql(\"DROP TABLE nessie.silver.blocks_transactions\")"
   ]
  },
  {
   "cell_type": "code",
   "execution_count": null,
   "id": "8750bd33-ef50-4cb8-b96d-de23771fb508",
   "metadata": {},
   "outputs": [],
   "source": [
    "print(dt.now())"
   ]
  },
  {
   "cell_type": "code",
   "execution_count": null,
   "id": "d359111e-8304-43c7-97c0-55c9778bc3cc",
   "metadata": {},
   "outputs": [],
   "source": [
    "\n",
    "#spark.table(\"nessie.learn.web_server_logs\").show()"
   ]
  },
  {
   "cell_type": "code",
   "execution_count": null,
   "id": "079fa6da-0a1f-42fc-be6b-7b5d1da58a5f",
   "metadata": {},
   "outputs": [],
   "source": [
    "# spark.sql(f\"\"\"\n",
    "# CREATE TABLE IF NOT EXISTS nessie.learn.web_server_logs (\n",
    "#     ip_address STRING,\n",
    "#     identifier STRING,\n",
    "#     user STRING,\n",
    "#     http_version STRING,\n",
    "#     object_size INT,\n",
    "#     http_request STRING,\n",
    "#     http_status INT,\n",
    "#     odate STRING,\n",
    "#     log_timestamp TIMESTAMP)\n",
    "# USING ICEBERG\n",
    "# PARTITIONED BY (odate)\n",
    "# TBLPROPERTIES ('gc.enabled' = 'true')\n",
    "# \"\"\").show()"
   ]
  }
 ],
 "metadata": {
  "kernelspec": {
   "display_name": "Python 3 (ipykernel)",
   "language": "python",
   "name": "python3"
  },
  "language_info": {
   "codemirror_mode": {
    "name": "ipython",
    "version": 3
   },
   "file_extension": ".py",
   "mimetype": "text/x-python",
   "name": "python",
   "nbconvert_exporter": "python",
   "pygments_lexer": "ipython3",
   "version": "3.12.8"
  }
 },
 "nbformat": 4,
 "nbformat_minor": 5
}
