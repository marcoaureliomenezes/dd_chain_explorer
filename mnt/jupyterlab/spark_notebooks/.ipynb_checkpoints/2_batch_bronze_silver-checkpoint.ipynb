{
 "cells": [
  {
   "cell_type": "markdown",
   "metadata": {},
   "source": [
    "## 1. SILVER LOGS"
   ]
  },
  {
   "cell_type": "code",
   "execution_count": 1,
   "metadata": {},
   "outputs": [],
   "source": [
    "# SCHEMA_REGISTRY_URL = \"http://schema-registry:8081\"\n",
    "# sc_client = SchemaRegistryUtils.get_schema_registry_client(SCHEMA_REGISTRY_URL)\n",
    "# topic_logs = \"mainnet.application.logs-value\"\n",
    "# schema_logs = SchemaRegistryUtils.get_avro_schema(sc_client, topic_logs)\n",
    "# print(schema_logs)\n",
    "\n",
    "# df.select(\"topic\").distinct().show(20, True)\n",
    "# df.filter(col(\"topic\") == \"mainnet.application.logs\").show()"
   ]
  },
  {
   "cell_type": "markdown",
   "metadata": {},
   "source": [
    "## 2. SILVER BLOCKS_METADATA"
   ]
  },
  {
   "cell_type": "code",
   "execution_count": 2,
   "metadata": {},
   "outputs": [
    {
     "name": "stdout",
     "output_type": "stream",
     "text": [
      "{\"type\":\"record\",\"name\":\"BlockClock\",\"namespace\":\"io.onchain.streamtxs.avro\",\"fields\":[{\"name\":\"number\",\"type\":\"long\"},{\"name\":\"timestamp\",\"type\":\"long\"},{\"name\":\"hash\",\"type\":\"string\"},{\"name\":\"parentHash\",\"type\":\"string\"},{\"name\":\"difficulty\",\"type\":\"long\"},{\"name\":\"totalDifficulty\",\"type\":\"string\"},{\"name\":\"nonce\",\"type\":\"string\"},{\"name\":\"size\",\"type\":\"long\"},{\"name\":\"miner\",\"type\":\"string\"},{\"name\":\"baseFeePerGas\",\"type\":\"long\"},{\"name\":\"gasLimit\",\"type\":\"long\"},{\"name\":\"gasUsed\",\"type\":\"long\"},{\"name\":\"logsBloom\",\"type\":\"string\"},{\"name\":\"extraData\",\"type\":\"string\"},{\"name\":\"transactionsRoot\",\"type\":\"string\"},{\"name\":\"stateRoot\",\"type\":\"string\"},{\"name\":\"transactions\",\"type\":{\"type\":\"array\",\"items\":\"string\"}},{\"name\":\"withdrawals\",\"type\":{\"type\":\"array\",\"items\":{\"type\":\"record\",\"name\":\"Withdrawal\",\"fields\":[{\"name\":\"index\",\"type\":\"long\"},{\"name\":\"validatorIndex\",\"type\":\"long\"},{\"name\":\"address\",\"type\":\"string\"},{\"name\":\"amount\",\"type\":\"long\"}]}}}]}\n",
      "AAAAAAAAAAAAAAAAAAAAAAAAAAAAAAAAA\n",
      "http://minio:9000\n",
      "http://nessie:19120/api/v1\n",
      "GrUr9BIgpGPkmndTwy49\n",
      "raNBYXUKa36SSVfAPz6LiuI9HzF4XaVDoQlZDaC4\n",
      ":: loading settings :: url = jar:file:/opt/bitnami/spark/jars/ivy-2.5.1.jar!/org/apache/ivy/core/settings/ivysettings.xml\n"
     ]
    },
    {
     "name": "stderr",
     "output_type": "stream",
     "text": [
      "Ivy Default Cache set to: /root/.ivy2/cache\n",
      "The jars for the packages stored in: /root/.ivy2/jars\n",
      "org.apache.iceberg#iceberg-spark-runtime-3.5_2.12 added as a dependency\n",
      "org.projectnessie.nessie-integrations#nessie-spark-extensions-3.5_2.12 added as a dependency\n",
      "software.amazon.awssdk#bundle added as a dependency\n",
      "software.amazon.awssdk#url-connection-client added as a dependency\n",
      "org.apache.spark#spark-sql-kafka-0-10_2.12 added as a dependency\n",
      "org.apache.spark#spark-avro_2.12 added as a dependency\n",
      ":: resolving dependencies :: org.apache.spark#spark-submit-parent-5a131c8e-27e0-41bb-89e4-b02e554a0025;1.0\n",
      "\tconfs: [default]\n",
      "\tfound org.apache.iceberg#iceberg-spark-runtime-3.5_2.12;1.6.1 in central\n",
      "\tfound org.projectnessie.nessie-integrations#nessie-spark-extensions-3.5_2.12;0.95.0 in central\n",
      "\tfound software.amazon.awssdk#bundle;2.17.178 in central\n",
      "\tfound software.amazon.eventstream#eventstream;1.0.1 in central\n",
      "\tfound software.amazon.awssdk#url-connection-client;2.17.178 in central\n",
      "\tfound software.amazon.awssdk#utils;2.17.178 in central\n",
      "\tfound org.reactivestreams#reactive-streams;1.0.3 in central\n",
      "\tfound software.amazon.awssdk#annotations;2.17.178 in central\n",
      "\tfound org.slf4j#slf4j-api;1.7.30 in central\n",
      "\tfound software.amazon.awssdk#http-client-spi;2.17.178 in central\n",
      "\tfound software.amazon.awssdk#metrics-spi;2.17.178 in central\n",
      "\tfound org.apache.spark#spark-sql-kafka-0-10_2.12;3.5.1 in central\n",
      "\tfound org.apache.spark#spark-token-provider-kafka-0-10_2.12;3.5.1 in central\n",
      "\tfound org.apache.kafka#kafka-clients;3.4.1 in central\n",
      "\tfound org.lz4#lz4-java;1.8.0 in central\n",
      "\tfound org.xerial.snappy#snappy-java;1.1.10.3 in central\n",
      "\tfound org.slf4j#slf4j-api;2.0.7 in central\n",
      "\tfound org.apache.hadoop#hadoop-client-runtime;3.3.4 in central\n",
      "\tfound org.apache.hadoop#hadoop-client-api;3.3.4 in central\n",
      "\tfound commons-logging#commons-logging;1.1.3 in central\n",
      "\tfound com.google.code.findbugs#jsr305;3.0.0 in central\n",
      "\tfound org.apache.commons#commons-pool2;2.11.1 in central\n",
      "\tfound org.apache.spark#spark-avro_2.12;3.5.1 in central\n",
      "\tfound org.tukaani#xz;1.9 in central\n",
      ":: resolution report :: resolve 2740ms :: artifacts dl 111ms\n",
      "\t:: modules in use:\n",
      "\tcom.google.code.findbugs#jsr305;3.0.0 from central in [default]\n",
      "\tcommons-logging#commons-logging;1.1.3 from central in [default]\n",
      "\torg.apache.commons#commons-pool2;2.11.1 from central in [default]\n",
      "\torg.apache.hadoop#hadoop-client-api;3.3.4 from central in [default]\n",
      "\torg.apache.hadoop#hadoop-client-runtime;3.3.4 from central in [default]\n",
      "\torg.apache.iceberg#iceberg-spark-runtime-3.5_2.12;1.6.1 from central in [default]\n",
      "\torg.apache.kafka#kafka-clients;3.4.1 from central in [default]\n",
      "\torg.apache.spark#spark-avro_2.12;3.5.1 from central in [default]\n",
      "\torg.apache.spark#spark-sql-kafka-0-10_2.12;3.5.1 from central in [default]\n",
      "\torg.apache.spark#spark-token-provider-kafka-0-10_2.12;3.5.1 from central in [default]\n",
      "\torg.lz4#lz4-java;1.8.0 from central in [default]\n",
      "\torg.projectnessie.nessie-integrations#nessie-spark-extensions-3.5_2.12;0.95.0 from central in [default]\n",
      "\torg.reactivestreams#reactive-streams;1.0.3 from central in [default]\n",
      "\torg.slf4j#slf4j-api;2.0.7 from central in [default]\n",
      "\torg.tukaani#xz;1.9 from central in [default]\n",
      "\torg.xerial.snappy#snappy-java;1.1.10.3 from central in [default]\n",
      "\tsoftware.amazon.awssdk#annotations;2.17.178 from central in [default]\n",
      "\tsoftware.amazon.awssdk#bundle;2.17.178 from central in [default]\n",
      "\tsoftware.amazon.awssdk#http-client-spi;2.17.178 from central in [default]\n",
      "\tsoftware.amazon.awssdk#metrics-spi;2.17.178 from central in [default]\n",
      "\tsoftware.amazon.awssdk#url-connection-client;2.17.178 from central in [default]\n",
      "\tsoftware.amazon.awssdk#utils;2.17.178 from central in [default]\n",
      "\tsoftware.amazon.eventstream#eventstream;1.0.1 from central in [default]\n",
      "\t:: evicted modules:\n",
      "\torg.slf4j#slf4j-api;1.7.30 by [org.slf4j#slf4j-api;2.0.7] in [default]\n",
      "\t---------------------------------------------------------------------\n",
      "\t|                  |            modules            ||   artifacts   |\n",
      "\t|       conf       | number| search|dwnlded|evicted|| number|dwnlded|\n",
      "\t---------------------------------------------------------------------\n",
      "\t|      default     |   24  |   0   |   0   |   1   ||   23  |   0   |\n",
      "\t---------------------------------------------------------------------\n",
      ":: retrieving :: org.apache.spark#spark-submit-parent-5a131c8e-27e0-41bb-89e4-b02e554a0025\n",
      "\tconfs: [default]\n",
      "\t0 artifacts copied, 23 already retrieved (0kB/132ms)\n",
      "24/10/07 02:22:04 WARN NativeCodeLoader: Unable to load native-hadoop library for your platform... using builtin-java classes where applicable\n",
      "Setting default log level to \"WARN\".\n",
      "To adjust logging level use sc.setLogLevel(newLevel). For SparkR, use setLogLevel(newLevel).\n",
      "SLF4J: Failed to load class \"org.slf4j.impl.StaticLoggerBinder\".\n",
      "SLF4J: Defaulting to no-operation (NOP) logger implementation\n",
      "SLF4J: See http://www.slf4j.org/codes.html#StaticLoggerBinder for further details.\n"
     ]
    },
    {
     "name": "stdout",
     "output_type": "stream",
     "text": [
      "StructType([StructField('key', BinaryType(), True), StructField('value', BinaryType(), True), StructField('partition', IntegerType(), True), StructField('offset', LongType(), True), StructField('timestamp', TimestampType(), True), StructField('topic', StringType(), True)])\n",
      "+---+-----+---------+------+---------+-----+\n",
      "|key|value|partition|offset|timestamp|topic|\n",
      "+---+-----+---------+------+---------+-----+\n",
      "+---+-----+---------+------+---------+-----+\n",
      "\n"
     ]
    },
    {
     "name": "stderr",
     "output_type": "stream",
     "text": [
      "IOPub data rate exceeded.                                                       \n",
      "The Jupyter server will temporarily stop sending output\n",
      "to the client in order to avoid crashing it.\n",
      "To change this limit, set the config variable\n",
      "`--ServerApp.iopub_data_rate_limit`.\n",
      "\n",
      "Current values:\n",
      "ServerApp.iopub_data_rate_limit=1000000.0 (bytes/sec)\n",
      "ServerApp.rate_limit_window=3.0 (secs)\n",
      "\n"
     ]
    }
   ],
   "source": [
    "import os\n",
    "from utils.spark import get_spark_session\n",
    "import os\n",
    "\n",
    "from pyspark.sql.functions import col, expr, split, window, count, max\n",
    "from pyspark.sql.avro.functions import from_avro\n",
    "from pyspark.sql.types import *\n",
    "\n",
    "from utils.schema_registry_utils import SchemaRegistryUtils\n",
    "\n",
    "\n",
    "class SilverBlocks:\n",
    "   \n",
    "  def __init__(self, spark, silver_tbl_name):\n",
    "    self.spark = spark\n",
    "    self.silver_tbl_name = silver_tbl_name\n",
    "\n",
    "\n",
    "  def create_table(self):\n",
    "    self.spark.sql(f\"\"\"\n",
    "    CREATE TABLE IF NOT EXISTS {self.silver_tbl_name} (\n",
    "    key binary,\n",
    "    value binary,\n",
    "    partition int,\n",
    "    offset long,\n",
    "    timestamp timestamp,\n",
    "    topic string) \n",
    "    USING ICEBERG PARTITIONED BY (topic)\n",
    "    \"\"\").show()\n",
    "    spark.table(self.silver_tbl_name).printSchema()\n",
    "    \n",
    "  def extract_data(self, bronze_src_tbl):\n",
    "    schema = StructType([\n",
    "        StructField('key', BinaryType(), True),\n",
    "        StructField('value', BinaryType(), True),\n",
    "        StructField('partition', IntegerType(), True),\n",
    "        StructField('offset', LongType(), True),\n",
    "        StructField('timestamp', TimestampType(), True),\n",
    "        StructField('topic', StringType(), True)]\n",
    "    )\n",
    "    df_extracted = (\n",
    "      self.spark\n",
    "        .readStream\n",
    "        .format(\"iceberg\")\n",
    "        .option(\"streaming-skip-delete-snapshots\",\"true\")\n",
    "        .option(\"schema\", schema)\n",
    "        .table(bronze_src_tbl)\n",
    "        .filter(col(\"topic\") == \"mainnet.mined.txs.token.transfer\")\n",
    "        .select(\"key\",\"value\",\"partition\",\"offset\",\"timestamp\",\"topic\"))\n",
    "    return df_extracted\n",
    "\n",
    "    \n",
    "  def transform_data(self, df_extracted):   \n",
    "    df_transformed = (\n",
    "        df_blocks\n",
    "        .select(\n",
    "          col(\"timestamp\").alias(\"kafka_timestamp\"),\n",
    "          from_avro(expr(\"substring(value, 6)\"), schema_blocks).alias(\"data\"))\n",
    "        .select(\"kafka_timestamp\", \"data.*\")\n",
    "    )\n",
    "    return df_transformed\n",
    "\n",
    "    \n",
    "  def load_data_to_console(self, df_transformed):\n",
    "    query = (\n",
    "      df_transformed\n",
    "        .writeStream\n",
    "        .outputMode(\"append\")\n",
    "        .format(\"console\")\n",
    "        .start())\n",
    "    return query\n",
    "\n",
    "  def load_data_to_bronze(self, df_transformed):\n",
    "    query = (\n",
    "      df_transformed\n",
    "        .writeStream\n",
    "        .format(\"iceberg\")\n",
    "        .outputMode(\"append\")\n",
    "        .option(\"checkpointLocation\", \"s3a://sistemas/checkpoints/silver\")\n",
    "        .toTable(self.silver_tbl_name))\n",
    "    return query\n",
    "\n",
    "\n",
    "os.environ[\"SPARK_MASTER_URL\"] = \"spark://spark-master:7077\"\n",
    "SCHEMA_REGISTRY_URL = \"http://schema-registry:8081\"\n",
    "sc_client = SchemaRegistryUtils.get_schema_registry_client(SCHEMA_REGISTRY_URL)\n",
    "topic_blocks = \"mainnet.mined.block.metadata-value\"\n",
    "schema_blocks = SchemaRegistryUtils.get_avro_schema(sc_client, topic_blocks)\n",
    "print(schema_blocks)\n",
    "\n",
    "spark = get_spark_session(\"silver_blocks\")\n",
    "\n",
    "silver_blocks = 'nessie.blocks'\n",
    "bronze_src_tbl = \"nessie.test\"\n",
    "print(spark.table(bronze_src_tbl).schema)\n",
    "spark.table(silver_blocks).show()\n",
    "\n",
    "\n"
   ]
  },
  {
   "cell_type": "markdown",
   "metadata": {},
   "source": [
    "## 3. SILVER TRANSACTIONS_DATA"
   ]
  },
  {
   "cell_type": "code",
   "execution_count": 3,
   "metadata": {},
   "outputs": [],
   "source": [
    "engine = SilverBlocks(spark, silver_blocks)\n",
    "df_extracted = engine.extract_data(bronze_src_tbl)\n",
    "\n",
    "#query = engine.load_data_to_bronze(df_extracted)\n",
    "query = engine.load_data_to_console(df_extracted)\n",
    "query.awaitTermination()"
   ]
  },
  {
   "cell_type": "code",
   "execution_count": 4,
   "metadata": {},
   "outputs": [],
   "source": [
    "# SCHEMA_REGISTRY_URL = \"http://schema-registry:8081\"\n",
    "# sc_client = SchemaRegistryUtils.get_schema_registry_client(SCHEMA_REGISTRY_URL)\n",
    "# topic_txs = \"mainnet.mined.txs.contract.call-value\"\n",
    "# schema_txs = SchemaRegistryUtils.get_avro_schema(sc_client, topic_txs)\n",
    "# print(schema_txs)"
   ]
  },
  {
   "cell_type": "code",
   "execution_count": 5,
   "metadata": {},
   "outputs": [],
   "source": [
    "#spark.stop()"
   ]
  },
  {
   "cell_type": "code",
   "execution_count": 7,
   "metadata": {},
   "outputs": [
    {
     "name": "stderr",
     "output_type": "stream",
     "text": [
      "[Stage 7:>                                                          (0 + 1) / 1]\r"
     ]
    },
    {
     "name": "stdout",
     "output_type": "stream",
     "text": [
      "+--------------------------------+\n",
      "|topic                           |\n",
      "+--------------------------------+\n",
      "|mainnet.mined.txs.token.transfer|\n",
      "|mainnet.mined.block.metadata    |\n",
      "+--------------------------------+\n",
      "\n"
     ]
    },
    {
     "name": "stderr",
     "output_type": "stream",
     "text": [
      "                                                                                \r"
     ]
    }
   ],
   "source": [
    "spark.table(bronze_src_tbl).select(\"topic\").distinct().show(20, False)"
   ]
  },
  {
   "cell_type": "code",
   "execution_count": null,
   "metadata": {},
   "outputs": [],
   "source": []
  }
 ],
 "metadata": {
  "kernelspec": {
   "display_name": "Python 3 (ipykernel)",
   "language": "python",
   "name": "python3"
  },
  "language_info": {
   "codemirror_mode": {
    "name": "ipython",
    "version": 3
   },
   "file_extension": ".py",
   "mimetype": "text/x-python",
   "name": "python",
   "nbconvert_exporter": "python",
   "pygments_lexer": "ipython3",
   "version": "3.11.9"
  }
 },
 "nbformat": 4,
 "nbformat_minor": 4
}
